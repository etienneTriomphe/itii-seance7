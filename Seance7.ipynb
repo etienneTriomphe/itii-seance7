{
  "nbformat": 4,
  "nbformat_minor": 0,
  "metadata": {
    "kernelspec": {
      "display_name": "Python 3",
      "language": "python",
      "name": "python3"
    },
    "language_info": {
      "codemirror_mode": {
        "name": "ipython",
        "version": 3
      },
      "file_extension": ".py",
      "mimetype": "text/x-python",
      "name": "python",
      "nbconvert_exporter": "python",
      "pygments_lexer": "ipython3",
      "version": "3.7.6"
    },
    "colab": {
      "name": "Seance7.ipynb",
      "provenance": []
    }
  },
  "cells": [
    {
      "cell_type": "markdown",
      "metadata": {
        "id": "5npr7vWcfUtM"
      },
      "source": [
        "En utilisant numpy:"
      ]
    },
    {
      "cell_type": "markdown",
      "metadata": {
        "id": "ezpCnTv1fUtM"
      },
      "source": [
        "Ex 1 :Addition\n",
        "Écrire un programme pour lire les éléments de deux matrices et ajoutez les deux matrices dans la troisième.\n",
        "\n",
        "La somme de deux matrices de taille (m,n), $(A_{ij}) et (B_{ij}) notée $A+B$  est à nouveau une matrice (C_{ij}) de taille (m,n), obtenue en additionnant les éléments correspondants: $c_{ij}=a_{ij}+b_{ij}$\n"
      ]
    },
    {
      "cell_type": "code",
      "metadata": {
        "colab": {
          "base_uri": "https://localhost:8080/"
        },
        "id": "USeSH_K1fUtM",
        "outputId": "5365e69d-f06d-4e99-f478-d289bd56c39d"
      },
      "source": [
        "import numpy \n",
        " \n",
        "A = numpy.array([ [5, 7, 4], [0, 2, 0], [0, 3, 10] ])\n",
        "B = numpy.array([ [1, -1, 1], [2, 1, 4], [12, 7, 20] ])\n",
        " \n",
        "C = A + B\n",
        " \n",
        "print(\"La matrice A : \\n\", A)\n",
        "print(\"La matrice B : \\n\", B)\n",
        "print(\"La matrice A + B : \\n\", C)\n"
      ],
      "execution_count": 3,
      "outputs": [
        {
          "output_type": "stream",
          "text": [
            "La matrice A : \n",
            " [[ 5  7  4]\n",
            " [ 0  2  0]\n",
            " [ 0  3 10]]\n",
            "La matrice B : \n",
            " [[ 1 -1  1]\n",
            " [ 2  1  4]\n",
            " [12  7 20]]\n",
            "La matrice A + B : \n",
            " [[ 6  6  5]\n",
            " [ 2  3  4]\n",
            " [12 10 30]]\n"
          ],
          "name": "stdout"
        }
      ]
    },
    {
      "cell_type": "markdown",
      "metadata": {
        "id": "YlTzBRacfUtM"
      },
      "source": [
        "Ex2 :Multiplication\n",
        "Écrire un programme pour lire les éléments de deux matrices, puis multipliez les deux matrices dans la troisième.\n",
        "\n",
        "Deux matrices ne peuvent être multipliées que si le nombre de colonnes de la première matrice est le même que le nombre de lignes de la seconde matrice.\n",
        "\n",
        "Si $ A=(a_{ij})$ est une matrice de taille (m,n), $ B=(b_{ij})$ et est une matrice de taille (n,p), alors leur produit, noté $AB=(c_{ij})$ est une matrice de taille (m,p) définie par :\n",
        "$$\\forall i,j : c_{ij}=\\sum_{k=i}^{n} a_{ik}*b_{kj}$$"
      ]
    },
    {
      "cell_type": "code",
      "metadata": {
        "colab": {
          "base_uri": "https://localhost:8080/"
        },
        "id": "1rX4wK4ZfUtN",
        "outputId": "30109510-3b20-49ad-9b3d-fdf120c6e4e1"
      },
      "source": [
        "import numpy \n",
        " \n",
        "A = numpy.array([ [5, 7, 4], [0, 2, 0], [0, 3, 10] ])\n",
        "B = numpy.array([ [1, -1, 1], [2, 1, 4], [12, 7, 20] ])\n",
        " \n",
        "C = A.dot(B)\n",
        " \n",
        "print(\"La matrice A : \\n\", A)\n",
        "print(\"La matrice B : \\n\", B)\n",
        "print(\"La matrice A * B : \\n\", C)"
      ],
      "execution_count": 5,
      "outputs": [
        {
          "output_type": "stream",
          "text": [
            "La matrice A : \n",
            " [[ 5  7  4]\n",
            " [ 0  2  0]\n",
            " [ 0  3 10]]\n",
            "La matrice B : \n",
            " [[ 1 -1  1]\n",
            " [ 2  1  4]\n",
            " [12  7 20]]\n",
            "La matrice A * B : \n",
            " [[ 67  30 113]\n",
            " [  4   2   8]\n",
            " [126  73 212]]\n"
          ],
          "name": "stdout"
        }
      ]
    },
    {
      "cell_type": "markdown",
      "metadata": {
        "id": "0gCshikPfUtN"
      },
      "source": [
        "Ex 3: Matrice de Markov\n",
        "\n",
        "Une matrice de Markov est une matrice carrée dont chaque élément est un réel compris entre 0 et 1 et dont la somme des éléments de chaque ligne vaut 1. Cela correspond, en probabilité, à la matrice de transition d'une chaîne de Markov finie.\n",
        "\n",
        "Une matrice est dite bistochastique (ou doublement stochastique) si la somme des éléments de chaque ligne et de chaque colonne vaut 1.\n",
        "\n",
        "1. Ecrire une fonction eststochastique(P) qui permet de vérifier est ce que la matrice P est stochastique ou non\n",
        "2. Ecrire une fonction estbistochastique(P) qui permet de vérifier est ce que la matrice P est bistochastique ou non\n",
        "3. Ecrire une fonction vecteurstable(G, h) qui permet de vérifier est ce que h est un vecteur stable de G ou non\n",
        "\n"
      ]
    },
    {
      "cell_type": "code",
      "metadata": {
        "id": "twbZdxdMfUtN"
      },
      "source": [
        "def eststochastique(P):\n",
        "    nblignes = len(P)  \n",
        "    nbcolonnes = len(P[0])  \n",
        " \n",
        "    stochastique = True  \n",
        "    for i in range(nblignes):\n",
        "        s = 0\n",
        "        for j in range(nbcolonnes):\n",
        "            s += P[i][j]\n",
        "        if s > 1:\n",
        "            stochastique = False\n",
        "            break\n",
        "    return stochastique\n",
        "\n",
        "def estbistochastique(P):\n",
        "    nblignes = len(P)  \n",
        "    nbcolonnes = len(P[0])  \n",
        " \n",
        "    bistochastique = True  \n",
        "    if(eststochastique(P)):\n",
        "      for j in range(nbcolonnes):\n",
        "          s = 0\n",
        "          for i in range(nblignes):\n",
        "              s += P[i][j]\n",
        "          if s > 1:\n",
        "              bistochastique = False\n",
        "              break\n",
        "    return bistochastique\n",
        "\n",
        "def vecteurstable(G, h):\n",
        "    nblignes = len(G)  \n",
        "    nbcolonnes = len(G[0])  \n",
        "    vecteurstable = True\n",
        "    if(eststochastique(G)):\n",
        "        for j in range(nbcolonnes):\n",
        "            s = 0\n",
        "            for i in range(nblignes):\n",
        "                s += h[i]*G[i][j]\n",
        "            if s != h[j]:\n",
        "                vecteurstable = False\n",
        "                break\n",
        "    else:\n",
        "        vecteurstable = False\n",
        "    return vecteurstable    \n",
        "\n",
        "\n",
        "\n"
      ],
      "execution_count": 13,
      "outputs": []
    },
    {
      "cell_type": "markdown",
      "metadata": {
        "id": "_OxGGhMsfUtN"
      },
      "source": [
        "Ex 4: Transposer\n",
        "\n",
        "Programmer une fonction qui, étant donné une matrice à deux dimensions A, retourne lamatrice B dont la première colonne est la première ligne de A, la seconde la deuxième ligne de A, etc. B s’appelle la transposée de A."
      ]
    },
    {
      "cell_type": "code",
      "metadata": {
        "colab": {
          "base_uri": "https://localhost:8080/"
        },
        "id": "WgPtlzkAfUtN",
        "outputId": "5626e4e1-8ee3-421a-f4f1-2446e9cf58dc"
      },
      "source": [
        "import numpy as np\n",
        " \n",
        "A = numpy.array([ [5, 7, 4], [0, 2, 0], [0, 3, 10] ])\n",
        " \n",
        "B = A.transpose()\n",
        " \n",
        "print(\"A : \\n\", A)\n",
        "print(\"La transposée de A : \\n\", B)"
      ],
      "execution_count": 14,
      "outputs": [
        {
          "output_type": "stream",
          "text": [
            "A : \n",
            " [[ 5  7  4]\n",
            " [ 0  2  0]\n",
            " [ 0  3 10]]\n",
            "La transposée de A : \n",
            " [[ 5  0  0]\n",
            " [ 7  2  3]\n",
            " [ 4  0 10]]\n"
          ],
          "name": "stdout"
        }
      ]
    },
    {
      "cell_type": "markdown",
      "metadata": {
        "id": "qhdNCw3FfUtN"
      },
      "source": [
        "Ex 5: Permutations\n",
        "1. $M$ désignant une matrice quelconque d’entiers à $l_i$ lignes et $co$ colonnes, $n$ un entier quelconque, programmer une fonction qui retourne la matrice $Sortie$ qui empile verticalement les $co+1$ matrices obtenues en adjoignant à $M$ une colonne $A$ à $li$ lignes dont tousles éléments sont égaux à $n$, $A$ étant placée d’abord devant $M$, puis entre la première et deuxième colonne de $M^a$,etc, jusqu’à ce que $A$ devienne sa dernière colonne. La matriceobtenue  aura $co+1$ colonnes et $(n+1)$ $li$ lignes\n",
        "\n",
        "2. Écrire toutes les permutations de(1, ..., n)"
      ]
    }
  ]
}